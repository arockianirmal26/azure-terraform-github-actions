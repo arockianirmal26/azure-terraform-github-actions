{
  "nbformat": 4,
  "nbformat_minor": 2,
  "metadata": {
    "language_info": {
      "name": "python"
    },
    "kernelspec": {
      "name": "synapse_pyspark",
      "display_name": "python"
    },
    "description": null,
    "save_output": true,
    "synapse_widget": {
      "version": "0.1",
      "state": {}
    }
  },
  "cells": [
    {
      "cell_type": "markdown",
      "metadata": {
        "nteract": {
          "transient": {
            "deleting": false
          }
        }
      },
      "source": [
        "<mark>Refined-Silver → Cleaned, structured data (business logic applied)</mark>"
      ]
    },
    {
      "cell_type": "code",
      "execution_count": null,
      "outputs": [],
      "metadata": {
        "tags": [
          "parameters"
        ]
      },
      "source": [
        "import json\n",
        "\n",
        "# Access parameter directly from Raw-Bronze notebook / (Toggle parameter cell)\n",
        "bronze_output = \"\""
      ]
    },
    {
      "cell_type": "code",
      "execution_count": null,
      "outputs": [],
      "metadata": {},
      "source": [
        "# Parse the JSON string\n",
        "output_data = json.loads(bronze_output)\n",
        "\n",
        "# Access individual variables\n",
        "start_date = output_data.get(\"start_date\")\n",
        "silver_adls = output_data.get(\"silver_adls\")\n",
        "bronze_adls = output_data.get(\"bronze_adls\")\n",
        "\n",
        "print(f\"Start Date: {start_date}\")\n",
        "print(f\"Silver ADLS: {silver_adls}\")\n",
        "print(f\"Bronze ADLS: {bronze_adls}\")"
      ]
    },
    {
      "cell_type": "code",
      "execution_count": 20,
      "outputs": [
        {
          "output_type": "display_data",
          "data": {
            "application/vnd.livy.statement-meta+json": {
              "spark_pool": "Synapsedemo",
              "statement_id": 2,
              "statement_ids": [
                2
              ],
              "state": "finished",
              "livy_statement_state": "available",
              "spark_jobs": null,
              "session_id": "1",
              "normalized_state": "finished",
              "queued_time": "2025-09-13T09:07:52.1451417Z",
              "session_start_time": "2025-09-13T09:07:52.1467355Z",
              "execution_start_time": "2025-09-13T09:08:58.0284015Z",
              "execution_finish_time": "2025-09-13T09:08:58.3234934Z",
              "parent_msg_id": "9f1a0144-05b6-42ab-97db-f6b7361d56e5"
            },
            "text/plain": "StatementMeta(Synapsedemo, 1, 2, Finished, Available, Finished)"
          },
          "metadata": {}
        }
      ],
      "metadata": {},
      "source": [
        "# For manually testing the notebook / remove before running in Data Factory Pipeline \n",
        "\n",
        "#from datetime import date, timedelta\n",
        "\n",
        "#start_date = date.today() - timedelta(1)\n",
        "\n",
        "#bronze_adls = \"abfss://raw-bronze@synapsetest1298.dfs.core.windows.net/\"\n",
        "#silver_adls = \"abfss://refined-silver@synapsetest1298.dfs.core.windows.net/\"\n",
        "\n",
        ""
      ]
    },
    {
      "cell_type": "code",
      "execution_count": 21,
      "outputs": [
        {
          "output_type": "display_data",
          "data": {
            "application/vnd.livy.statement-meta+json": {
              "spark_pool": "Synapsedemo",
              "statement_id": 3,
              "statement_ids": [
                3
              ],
              "state": "finished",
              "livy_statement_state": "available",
              "spark_jobs": null,
              "session_id": "1",
              "normalized_state": "finished",
              "queued_time": "2025-09-13T09:09:44.8506767Z",
              "session_start_time": null,
              "execution_start_time": "2025-09-13T09:09:44.8524525Z",
              "execution_finish_time": "2025-09-13T09:09:45.1689619Z",
              "parent_msg_id": "ff6bd673-39b5-467d-a4b5-250a0d9beff9"
            },
            "text/plain": "StatementMeta(Synapsedemo, 1, 3, Finished, Available, Finished)"
          },
          "metadata": {}
        }
      ],
      "metadata": {},
      "source": [
        "# import libraries\n",
        "from pyspark.sql.functions import col, isnull, when\n",
        "from pyspark.sql.types import TimestampType\n",
        "from datetime import date, timedelta"
      ]
    },
    {
      "cell_type": "code",
      "execution_count": 23,
      "outputs": [
        {
          "output_type": "display_data",
          "data": {
            "application/vnd.livy.statement-meta+json": {
              "spark_pool": "Synapsedemo",
              "statement_id": 5,
              "statement_ids": [
                5
              ],
              "state": "finished",
              "livy_statement_state": "available",
              "spark_jobs": null,
              "session_id": "1",
              "normalized_state": "finished",
              "queued_time": "2025-09-13T09:12:40.0857164Z",
              "session_start_time": null,
              "execution_start_time": "2025-09-13T09:12:40.0874135Z",
              "execution_finish_time": "2025-09-13T09:12:42.1949847Z",
              "parent_msg_id": "8aa5917c-3c97-4bbf-a755-24f3f413e150"
            },
            "text/plain": "StatementMeta(Synapsedemo, 1, 5, Finished, Available, Finished)"
          },
          "metadata": {}
        },
        {
          "output_type": "stream",
          "name": "stdout",
          "text": [
            "DataFrame[geometry: struct<coordinates:array<double>,type:string>, id: string, properties: struct<code:string,detail:string,dmin:double,gap:double,ids:string,mag:double,magType:string,net:string,nst:bigint,place:string,rms:double,sig:bigint,sources:string,status:string,time:bigint,title:string,tsunami:bigint,type:string,types:string,updated:bigint,url:string>, type: string]\nRow(geometry=Row(coordinates=[-122.817337036133, 38.8286666870117, 1.79999995231628], type='Point'), id='nc75237097', properties=Row(code='75237097', detail='https://earthquake.usgs.gov/fdsnws/event/1/query?eventid=nc75237097&format=geojson', dmin=0.007739, gap=82.0, ids=',nc75237097,', mag=0.9, magType='md', net='nc', nst=16, place='8 km NNW of The Geysers, CA', rms=0.02, sig=12, sources=',nc,', status='automatic', time=1757721597550, title='M 0.9 - 8 km NNW of The Geysers, CA', tsunami=0, type='earthquake', types=',nearby-cities,origin,phase-data,scitech-link,', updated=1757723237978, url='https://earthquake.usgs.gov/earthquakes/eventpage/nc75237097'), type='Feature')\n"
          ]
        }
      ],
      "metadata": {},
      "source": [
        "# Load the JSON data into a Spark DataFrame\n",
        "df = spark.read.option(\"multiline\", \"true\").json(f\"{bronze_adls}{start_date}_earthquake_data.json\")\n",
        "\n",
        "# print df and head\n",
        "print(df)\n",
        "print(df.head())"
      ]
    },
    {
      "cell_type": "code",
      "execution_count": 24,
      "outputs": [
        {
          "output_type": "display_data",
          "data": {
            "application/vnd.livy.statement-meta+json": {
              "spark_pool": "Synapsedemo",
              "statement_id": 6,
              "statement_ids": [
                6
              ],
              "state": "finished",
              "livy_statement_state": "available",
              "spark_jobs": null,
              "session_id": "1",
              "normalized_state": "finished",
              "queued_time": "2025-09-13T09:13:05.8226364Z",
              "session_start_time": null,
              "execution_start_time": "2025-09-13T09:13:05.8244325Z",
              "execution_finish_time": "2025-09-13T09:13:07.0558613Z",
              "parent_msg_id": "27001cb9-55dc-4b72-903c-8c01d2a9698e"
            },
            "text/plain": "StatementMeta(Synapsedemo, 1, 6, Finished, Available, Finished)"
          },
          "metadata": {}
        },
        {
          "output_type": "stream",
          "name": "stdout",
          "text": [
            "DataFrame[id: string, longitude: double, latitude: double, elevation: double, title: string, place_description: string, sig: bigint, mag: double, magType: string, time: bigint, updated: bigint]\nRow(id='nc75237097', longitude=-122.817337036133, latitude=38.8286666870117, elevation=1.79999995231628, title='M 0.9 - 8 km NNW of The Geysers, CA', place_description='8 km NNW of The Geysers, CA', sig=12, mag=0.9, magType='md', time=1757721597550, updated=1757723237978)\n"
          ]
        }
      ],
      "metadata": {},
      "source": [
        "# Reshape the data\n",
        "df = (\n",
        "    df\n",
        "    .select(\n",
        "        'id',\n",
        "        col('geometry.coordinates').getItem(0).alias('longitude'),\n",
        "        col('geometry.coordinates').getItem(1).alias('latitude'),\n",
        "        col('geometry.coordinates').getItem(2).alias('elevation'),\n",
        "        col('properties.title').alias('title'),\n",
        "        col('properties.place').alias('place_description'),\n",
        "        col('properties.sig').alias('sig'),\n",
        "        col('properties.mag').alias('mag'),\n",
        "        col('properties.magType').alias('magType'),\n",
        "        col('properties.time').alias('time'),\n",
        "        col('properties.updated').alias('updated')\n",
        "    )\n",
        ")\n",
        "\n",
        "# print df and head\n",
        "print(df)\n",
        "print(df.head())"
      ]
    },
    {
      "cell_type": "code",
      "execution_count": 25,
      "outputs": [
        {
          "output_type": "display_data",
          "data": {
            "application/vnd.livy.statement-meta+json": {
              "spark_pool": "Synapsedemo",
              "statement_id": 7,
              "statement_ids": [
                7
              ],
              "state": "finished",
              "livy_statement_state": "available",
              "spark_jobs": null,
              "session_id": "1",
              "normalized_state": "finished",
              "queued_time": "2025-09-13T09:14:23.7776512Z",
              "session_start_time": null,
              "execution_start_time": "2025-09-13T09:14:23.7795446Z",
              "execution_finish_time": "2025-09-13T09:14:25.0074827Z",
              "parent_msg_id": "bd33edd5-5019-4090-a41e-45b8f7a46f50"
            },
            "text/plain": "StatementMeta(Synapsedemo, 1, 7, Finished, Available, Finished)"
          },
          "metadata": {}
        },
        {
          "output_type": "execute_result",
          "data": {
            "text/plain": "Row(id='nc75237097', longitude=-122.817337036133, latitude=38.8286666870117, elevation=1.79999995231628, title='M 0.9 - 8 km NNW of The Geysers, CA', place_description='8 km NNW of The Geysers, CA', sig=12, mag=0.9, magType='md', time=datetime.datetime(2025, 9, 12, 23, 59, 57, 550000), updated=datetime.datetime(2025, 9, 13, 0, 27, 17, 978000))"
          },
          "execution_count": 15,
          "metadata": {}
        }
      ],
      "metadata": {},
      "source": [
        "# Validate data: Check for missing or null values\n",
        "df = (\n",
        "    df\n",
        "    .withColumn('longitude', when(isnull(col('longitude')), 0).otherwise(col('longitude')))\n",
        "    .withColumn('latitude', when(isnull(col('latitude')), 0).otherwise(col('latitude')))\n",
        "    .withColumn('time', when(isnull(col('time')), 0).otherwise(col('time')))\n",
        ")\n",
        "\n",
        "\n",
        "# Convert 'time' and 'updated' to timestamp from Unix time\n",
        "df = (\n",
        "    df\n",
        "    .withColumn('time', (col('time') / 1000).cast(TimestampType()))\n",
        "    .withColumn('updated', (col('updated') / 1000).cast(TimestampType()))\n",
        ")\n",
        "\n",
        "df.head()"
      ]
    },
    {
      "cell_type": "code",
      "execution_count": 26,
      "outputs": [
        {
          "output_type": "display_data",
          "data": {
            "application/vnd.livy.statement-meta+json": {
              "spark_pool": "Synapsedemo",
              "statement_id": 8,
              "statement_ids": [
                8
              ],
              "state": "finished",
              "livy_statement_state": "available",
              "spark_jobs": null,
              "session_id": "1",
              "normalized_state": "finished",
              "queued_time": "2025-09-13T09:19:02.7481667Z",
              "session_start_time": null,
              "execution_start_time": "2025-09-13T09:19:02.7501026Z",
              "execution_finish_time": "2025-09-13T09:19:09.9681815Z",
              "parent_msg_id": "ea7b8801-ba6a-4092-9593-52ae1f1cdbed"
            },
            "text/plain": "StatementMeta(Synapsedemo, 1, 8, Finished, Available, Finished)"
          },
          "metadata": {}
        }
      ],
      "metadata": {},
      "source": [
        "# Save the transformed DataFrame to the Silver container\n",
        "silver_data = f\"{silver_adls}earthquake_events_silver/\"\n",
        "\n",
        "# append DataFrame to Silver container in Parquet format / (overwrite to test)\n",
        "df.write.mode('overwrite').parquet(silver_data)"
      ]
    },
    {
      "cell_type": "code",
      "execution_count": null,
      "outputs": [],
      "metadata": {},
      "source": [
        "# passing metadata/output values to the next notebook\n",
        "mssparkutils.notebook.exit(silver_data)"
      ]
    }
  ]
}